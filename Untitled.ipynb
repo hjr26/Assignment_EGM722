{
 "cells": [
  {
   "cell_type": "code",
   "execution_count": null,
   "id": "2094fce3",
   "metadata": {},
   "outputs": [],
   "source": [
    "###This is a script designed to take an image from the Landsat 8 collection and run an NDVI on it. \n",
    "###To start, head over to the USGS portal and pick your Landsat 8 image, and download it. Make sure you have the seperate bands!\n",
    "\n",
    "\n",
    "\n",
    "%matplotlib notebook\n",
    "\n",
    "import numpy as np\n",
    "import rasterio as rio\n",
    "import cartopy.crs as ccrs\n",
    "import matplotlib.pyplot as plt\n",
    "import fiona as fi\n",
    "import earthpy as es\n",
    "import earthpy.spatial as es\n",
    "import earthpy.plot as ep\n",
    "import landsatxplore as lsex\n",
    "\n",
    "###Open your image and check the CRS to ensure it is in the desired projection\n",
    "with rio.open('Image/full_image_test-msi_chip.img') as dataset:\n",
    "    img = dataset.read()\n",
    "    xmin, ymin, xmax, ymax = dataset.bounds\n",
    "\n",
    "\n",
    "###Create a an axis for plotting. \n",
    "plotCRS = ccrs.UTM(29) # make sure that this UTM(x) corresponds to the CRS printed above\n",
    "fig, ax = plt.subplots(1, 1, figsize = (10, 10), subplot_kw=dict(projection=plotCRS)) #HUGH CHANGE SOME PARAMETERS DON'T JUST COPY\n",
    "\n",
    "#and plot\n",
    "ax.imshow(img[0], cmap='gray', vmin=200, vmax=500, transform = plotCRS, extent = [xmin, xmax, ymin, ymax])\n",
    "\n",
    "\n",
    "def img_display(image, ax, bands, transform, extent):\n",
    "    '''\n",
    "    This is where you should write a docstring.\n",
    "    '''\n",
    "    # first, we transpose the image to re-order the indices\n",
    "    dispimg = image.transpose([1, 2, 0])\n",
    "\n",
    "    # next, we have to scale the image.\n",
    "    dispimg = dispimg / dispimg.max()\n",
    "\n",
    "    # finally, we display the image\n",
    "    handle = ax.imshow(dispimg[:, :, bands], transform=transform, extent=extent)\n",
    "\n",
    "    return handle, ax\n",
    "\n",
    "h, ax = img_display(img, ax, [2, 1, 0], plotCRS, [xmin, xmax, ymin, ymax])\n",
    "fig # just to save you from scrolling back up to see"
   ]
  },
  {
   "cell_type": "code",
   "execution_count": null,
   "id": "186c457e",
   "metadata": {},
   "outputs": [],
   "source": [
    "maxvals = [img[i].max() for i in range(dataset.count)]\n",
    "print(maxvals)"
   ]
  },
  {
   "cell_type": "code",
   "execution_count": null,
   "id": "2cb2f9f1",
   "metadata": {},
   "outputs": [],
   "source": [
    "def percentile_stretch(image, pmin=0., pmax=100.):\n",
    "    '''\n",
    "    This is where you should write a docstring.\n",
    "    '''\n",
    "    # here, we make sure that pmin < pmax, and that they are between 0, 100\n",
    "    if not 0 <= pmin < pmax <= 100:\n",
    "        raise ValueError('0 <= pmin < pmax <= 100')\n",
    "    # here, we make sure that the image is only 2-dimensional\n",
    "    if not image.ndim == 2:\n",
    "        raise ValueError('Image can only have two dimensions (row, column)')\n",
    "\n",
    "    minval = np.percentile(image, pmin)\n",
    "    maxval = np.percentile(image, pmax)\n",
    "\n",
    "    stretched = (image - minval) / (maxval - minval) # stretch the image to 0, 1\n",
    "    stretched[image < minval] = 0 # set anything less than minval to the new minimum, 0.\n",
    "    stretched[image > maxval] = 1 # set anything greater than maxval to the new maximum, 1.\n",
    "\n",
    "    return stretched"
   ]
  },
  {
   "cell_type": "code",
   "execution_count": null,
   "id": "615001f4",
   "metadata": {},
   "outputs": [],
   "source": [
    "def img_display(image, ax, bands, transform, extent, pmin=0, pmax=100):\n",
    "    '''\n",
    "    This is where you should write a docstring.\n",
    "    '''\n",
    "    dispimg = image.copy().astype(np.float32) # make a copy of the original image,\n",
    "    # but be sure to cast it as a floating-point image, rather than an integer\n",
    "\n",
    "    for b in range(image.shape[0]): # loop over each band, stretching using percentile_stretch()\n",
    "        dispimg[b] = percentile_stretch(image[b], pmin=pmin, pmax=pmax)\n",
    "\n",
    "    # next, we transpose the image to re-order the indices\n",
    "    dispimg = dispimg.transpose([1, 2, 0])\n",
    "\n",
    "    # finally, we display the image\n",
    "    handle = ax.imshow(dispimg[:, :, bands], transform=transform, extent=extent)\n",
    "\n",
    "    return handle, ax"
   ]
  },
  {
   "cell_type": "code",
   "execution_count": null,
   "id": "c6201627",
   "metadata": {},
   "outputs": [],
   "source": [
    "h, ax = img_display(img, ax, [3, 3, 3], plotCRS, [xmin, xmax, ymin, ymax], pmin=0.1, pmax=99.9)\n",
    "fig # just to save you from scrolling back up to see"
   ]
  },
  {
   "cell_type": "code",
   "execution_count": null,
   "id": "e1e16000",
   "metadata": {},
   "outputs": [],
   "source": [
    "the_ndvi = es.normalized_diff(img[4], img[3])\n",
    "print(the_ndvi)\n",
    "max(the_ndvi[1])\n",
    "min(the_ndvi[1])"
   ]
  },
  {
   "cell_type": "code",
   "execution_count": 1,
   "id": "29121a4a",
   "metadata": {},
   "outputs": [
    {
     "ename": "NameError",
     "evalue": "name 'ep' is not defined",
     "output_type": "error",
     "traceback": [
      "\u001b[1;31m---------------------------------------------------------------------------\u001b[0m",
      "\u001b[1;31mNameError\u001b[0m                                 Traceback (most recent call last)",
      "\u001b[1;32m~\\AppData\\Local\\Temp\\ipykernel_20020\\1005955751.py\u001b[0m in \u001b[0;36m<module>\u001b[1;34m\u001b[0m\n\u001b[1;32m----> 1\u001b[1;33m \u001b[0mep\u001b[0m\u001b[1;33m.\u001b[0m\u001b[0mplot_bands\u001b[0m\u001b[1;33m(\u001b[0m\u001b[0mthe_ndvi\u001b[0m\u001b[1;33m,\u001b[0m \u001b[0mcmap\u001b[0m\u001b[1;33m=\u001b[0m\u001b[1;34m\"RdYlGn\"\u001b[0m\u001b[1;33m,\u001b[0m \u001b[0mcols\u001b[0m\u001b[1;33m=\u001b[0m\u001b[1;36m1\u001b[0m\u001b[1;33m,\u001b[0m \u001b[0mvmin\u001b[0m \u001b[1;33m=\u001b[0m \u001b[1;33m-\u001b[0m\u001b[1;36m1\u001b[0m\u001b[1;33m,\u001b[0m \u001b[0mvmax\u001b[0m \u001b[1;33m=\u001b[0m \u001b[1;36m1\u001b[0m\u001b[1;33m,\u001b[0m \u001b[0mtitle\u001b[0m\u001b[1;33m=\u001b[0m\u001b[1;34m\"Test\"\u001b[0m\u001b[1;33m)\u001b[0m\u001b[1;33m\u001b[0m\u001b[1;33m\u001b[0m\u001b[0m\n\u001b[0m",
      "\u001b[1;31mNameError\u001b[0m: name 'ep' is not defined"
     ]
    }
   ],
   "source": [
    "ep.plot_bands(the_ndvi, cmap=\"RdYlGn\", cols=1, vmin = -1, vmax = 1, title=\"Test\")"
   ]
  },
  {
   "cell_type": "code",
   "execution_count": null,
   "id": "890fecf1",
   "metadata": {},
   "outputs": [],
   "source": [
    "red = arr_st[3].astype(float)\n",
    "nir = arr_st[4].astype(float)\n",
    "ndvi_2 = np.divide((nir-red), (nir+red))\n",
    "###Update this with your specific title\n",
    "plot_title = [\"NDVI over central Ireland 2021\"]\n",
    "###Depending on your area of interest you might like to change vmin and vmax. \n",
    "###If, for example, your values range from -0.3 to 0.4, try using e.g. -0.4 and 0.5 as vmin/vmax to get a clearer \n",
    "###idea of the NDVI values. As NDVI values can mathematically range from -1 to 1 these are used as default vmin/vmax.\n",
    "###Feel free to change the colour map, too. RdYlGn (red -> green) is a commonly used one with NDVI's, where darker greens \n",
    "###represent healthier vegetation. Choose more here: https://matplotlib.org/stable/tutorials/colors/colormaps.html\n",
    "ep.plot_bands(ndvi_2, cmap=\"RdYlGn\", cols=1, title=plot_title, vmin=-1, vmax=1)\n",
    "\n",
    "\n",
    "# Create classes and apply to NDVI results. You can add as many classes as you like here\n",
    "ndvi_class_bins = [-np.inf, 0, 0.1, 0.25, 0.4, np.inf]\n",
    "ndvi_landsat_class = np.digitize(ndvi_2, ndvi_class_bins)\n",
    "\n",
    "# Apply the nodata mask to the newly classified NDVI data\n",
    "ndvi_landsat_class = np.ma.masked_where(\n",
    "    np.ma.getmask(ndvi_2), ndvi_landsat_class\n",
    ")\n",
    "np.unique(ndvi_landsat_class)"
   ]
  }
 ],
 "metadata": {
  "kernelspec": {
   "display_name": "Python 3 (ipykernel)",
   "language": "python",
   "name": "python3"
  },
  "language_info": {
   "codemirror_mode": {
    "name": "ipython",
    "version": 3
   },
   "file_extension": ".py",
   "mimetype": "text/x-python",
   "name": "python",
   "nbconvert_exporter": "python",
   "pygments_lexer": "ipython3",
   "version": "3.7.13"
  }
 },
 "nbformat": 4,
 "nbformat_minor": 5
}
