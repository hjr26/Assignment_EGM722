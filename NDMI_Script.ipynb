{
 "cells": [
  {
   "cell_type": "code",
   "execution_count": null,
   "id": "e0a57b6d",
   "metadata": {},
   "outputs": [],
   "source": [
    "###Bring in the necessary packages to run the script\n",
    "import os\n",
    "from glob import glob\n",
    "import numpy as np\n",
    "import matplotlib.pyplot as plt\n",
    "from matplotlib.colors import ListedColormap\n",
    "import earthpy as et\n",
    "import earthpy.spatial as es\n",
    "import earthpy.plot as ep"
   ]
  },
  {
   "cell_type": "code",
   "execution_count": null,
   "id": "59416bcb",
   "metadata": {},
   "outputs": [],
   "source": [
    "###To start, set the path to open your image. In this example the image bands are in a folder called \"Image\" in the \n",
    "###working directory. B* means that the script will read in all band tifs collectively rather than having to code each one.\n",
    "image_path = glob(\"Image\\LC08_L1TP_207023_20211122_20211130_01_T1_B*.tif\")\n",
    "###Ensure the bands are sorted in order\n",
    "image_path.sort()\n",
    "###Stack the bands into a single image. Give the no data values.\n",
    "image, meta = es.stack(image_path, nodata=-9999)\n",
    "\n",
    "###if you want to check the band order you can uncomment the line below\n",
    "###print(image_path)\n"
   ]
  },
  {
   "cell_type": "code",
   "execution_count": null,
   "id": "b374da6f",
   "metadata": {},
   "outputs": [],
   "source": [
    "###plot your image. Default plot below is the false colour composite (4, 3, 2,) but these can be changed. Str_clip will \n",
    "###impact the amount of image stretch applied.\n",
    "ep.plot_rgb(image, rgb = [4, 3, 2], title = \"my plot\", stretch=True, str_clip=0.1)"
   ]
  },
  {
   "cell_type": "code",
   "execution_count": null,
   "id": "4f3e4c26",
   "metadata": {},
   "outputs": [],
   "source": [
    "def ndmi (image, ndmi_plot_title, ndmi_cmap, vmin, vmax,\n",
    "          ndmi_classes, ndmi_colours, ndmi_class_names,\n",
    "          classification_plot_title):\n",
    "    '''\n",
    "    This function will run a normalised difference moisture index(ndmi) on an image defined by the user. \n",
    "    It is programmed to use bands 5 and 6 from Landsat 8.\n",
    "    If using Landsat 4-7 change the function as explained below. The output from this function is a raw ndmi of the image,\n",
    "    and a classification of the image based on the ndmi values. \n",
    "    The variables required to customise the output are the image for analysis, the name of the raw ndmi plot, the \n",
    "    continuous colour palette for the ndmi plot, the min and max values to plot on the ndmi, the classes for the ndmi \n",
    "    classification, the specific colours for the ndmi classification, the class name and the name for the classified \n",
    "    ndmi plot.\n",
    "    These variables are explained below, too.\n",
    "    '''\n",
    "    \n",
    "    ###Here we define the two bands as floats used to calculate the NDMI: near infrared (NIR) bands and short-wave\n",
    "    ###infrared (SWIR) band. \n",
    "    ###Keep [4] and [5] if using Landsat 8. Change to [3] and [4] if using Landsat 4-7.   \n",
    "    nir = image[4].astype(float)\n",
    "    swir = image[5].astype(float)\n",
    "    ###and calculate the ndmi values\n",
    "    my_ndmi = np.divide((nir-swir), (nir+swir))\n",
    "    \n",
    "    ###plot the ndmi using variables defined by the user    \n",
    "    ep.plot_bands(my_ndmi, cmap = ndmi_cmap, title = ndmi_plot_title, vmin = vmin, vmax = vmax)\n",
    "    \n",
    "    ###Below we take the output array for our ndmi calculated above and give each value the integer value of the \n",
    "    ###classes variables that it falls into\n",
    "    image_ndmi_class = np.digitize(my_ndmi, ndmi_classes)\n",
    "    ### Apply a 'no data' mask to the array. This will remove no value data entries\n",
    "    image_ndmi_class = np.ma.masked_where(np.ma.getmask(my_ndmi), image_ndmi_class)\n",
    "    np.unique(image_ndmi_class)\n",
    "    \n",
    "    ###turn the specified colours variable into cmap format for plotting\n",
    "    ndmi_cmap = ListedColormap(ndmi_colours)\n",
    "    \n",
    "    ###get list of classes from the masked array\n",
    "    classes = np.unique(image_ndmi_class)\n",
    "    classes = classes.tolist()\n",
    "    ###the mask returns a value of 'NONE' as a class. This will give an error message that there are more classes (n+1) than\n",
    "    ###colours in cmap (n). We can remove this. (The example in the function has n = 9 classes). Make sure the number (9)\n",
    "    ###matches how many classes are named above\n",
    "    classes = classes[0:len(ndmi_class_names)]\n",
    "\n",
    "    ###plot your data using variables defined by user.\n",
    "    fig, ax = plt.subplots(figsize=(14, 14))\n",
    "    im = ax.imshow(image_ndmi_class, cmap=ndmi_cmap)\n",
    "\n",
    "    ep.draw_legend(im_ax=im, classes=classes, titles=ndmi_class_names)\n",
    "    ax.set_title(classification_plot_title,\n",
    "        fontsize=16,\n",
    "    )\n",
    "    ax.set_axis_off()\n",
    "\n",
    "    ###auto adjust subplot to fit figure size\n",
    "    plt.tight_layout()"
   ]
  },
  {
   "cell_type": "code",
   "execution_count": null,
   "id": "7ac77eca",
   "metadata": {},
   "outputs": [],
   "source": [
    "###define the key variables for the function, below.\n",
    "###note that image is defined above when stacking the bands together\n",
    "###name the raw ndmi plot\n",
    "ndmi_plot_title = \"Your ndmi plot name\"\n",
    "###define the colour map. \"RdYlGn\" (continuous scale red -> green) is recommended. Other options\n",
    "###available at https://matplotlib.org/stable/tutorials/colors/colormaps.html\n",
    "ndmi_cmap = \"PRGn\"\n",
    "\n",
    "#vmin and vmax are parameters for plotting the raw ndmi values. Depending on your dataset you might want to bring these\n",
    "###closer to zero to better show the spread of your data!\n",
    "vmin = -1\n",
    "vmax = 1\n",
    "\n",
    "###below you can specify how many classes you like. Classes defined below are -np.inf (lowest value in dataset) -> 0,\n",
    "###0 -> 0.15, 0.15 -> 0.3, 0.3 -> 0.5 and 0.5 -> +np.inf (highest value in dataset). 5 classes have been set here.\n",
    "ndmi_classes = [-np.inf, 0, 0.15, 0.3, 0.5, np.inf]\n",
    "\n",
    "###and then specify the colours for the classes, make sure this matches the number of classes above\n",
    "ndmi_colours = [\"lightblue\", \"grey\", \"yellow\", \"lightgreen\", \"green\"]\n",
    "\n",
    "###and name the classes. Again, make sure this matches the number of classes.\n",
    "ndmi_class_names = [\"class one\", \"class two\", \"class three\", \"class four\", \n",
    "                    \"class five\"]\n",
    "\n",
    "###and name your final classification plot's title\n",
    "classification_plot_title = \"Your ndmi classification plot name\"\n",
    "    "
   ]
  },
  {
   "cell_type": "code",
   "execution_count": null,
   "id": "e38e923f",
   "metadata": {},
   "outputs": [],
   "source": [
    "###run the function on your image. This will give you the plotted output for the NDMI.\n",
    "ndmi(image, ndmi_plot_title, ndmi_cmap, vmin, vmax, ndmi_classes, ndmi_colours, ndmi_class_names, classification_plot_title)\n"
   ]
  },
  {
   "cell_type": "code",
   "execution_count": null,
   "id": "8225cb08",
   "metadata": {},
   "outputs": [],
   "source": [
    "\n",
    "    "
   ]
  },
  {
   "cell_type": "code",
   "execution_count": null,
   "id": "23b735a3",
   "metadata": {},
   "outputs": [],
   "source": []
  },
  {
   "cell_type": "code",
   "execution_count": null,
   "id": "d3a57865",
   "metadata": {},
   "outputs": [],
   "source": []
  }
 ],
 "metadata": {
  "kernelspec": {
   "display_name": "Python 3 (ipykernel)",
   "language": "python",
   "name": "python3"
  },
  "language_info": {
   "codemirror_mode": {
    "name": "ipython",
    "version": 3
   },
   "file_extension": ".py",
   "mimetype": "text/x-python",
   "name": "python",
   "nbconvert_exporter": "python",
   "pygments_lexer": "ipython3",
   "version": "3.7.13"
  }
 },
 "nbformat": 4,
 "nbformat_minor": 5
}
