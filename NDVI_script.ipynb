{
 "cells": [
  {
   "cell_type": "markdown",
   "id": "67e2d356",
   "metadata": {},
   "source": [
    "# Something"
   ]
  },
  {
   "cell_type": "code",
   "execution_count": null,
   "id": "e0e8606e",
   "metadata": {},
   "outputs": [],
   "source": [
    "###Bring in the necessary packages to run the script\n",
    "import os\n",
    "from glob import glob\n",
    "import numpy as np\n",
    "import matplotlib.pyplot as plt\n",
    "from matplotlib.colors import ListedColormap\n",
    "import earthpy as et\n",
    "import earthpy.spatial as es\n",
    "import earthpy.plot as ep\n",
    "from tifffile import imsave\n"
   ]
  },
  {
   "cell_type": "code",
   "execution_count": null,
   "id": "946b9144",
   "metadata": {},
   "outputs": [],
   "source": [
    "###To start, set the path to open your image. In this example the image bands are in a folder called \"Image\" in the \n",
    "###working directory. B* means that the script will read in all band tifs collectively rather than having to code each one.\n",
    "image_path = glob(\"Image\\LC08_L1TP_207023_20211122_20211130_01_T1_B*.tif\")\n",
    "###Ensure the bands are sorted in order\n",
    "image_path.sort()\n",
    "###Stack the bands into a single image. Give the no data values.\n",
    "image, meta = es.stack(image_path, nodata=-9999)\n",
    "\n"
   ]
  },
  {
   "cell_type": "code",
   "execution_count": null,
   "id": "3f1cb68d",
   "metadata": {},
   "outputs": [],
   "source": [
    "###plot your image. Default plot below is the false colour composite (4, 3, 2,) but these can be changed. Str_clip will \n",
    "###impact the amount of image stretch applied.\n",
    "ep.plot_rgb(image, rgb = [4, 3, 2], title = \"my plot\", stretch=True, str_clip=0.1)"
   ]
  },
  {
   "cell_type": "code",
   "execution_count": null,
   "id": "1188a2f3",
   "metadata": {},
   "outputs": [],
   "source": [
    "###define the key variables for the function, below.\n",
    "###note that image is defined above when stacking the bands together\n",
    "###name the raw ndvi plot\n",
    "ndvi_plot_title = \"Your ndvi plot name\"\n",
    "###define the colour map. For example, \"RdYlGn\" (continuous scale red -> green) is often used for NDVI. Other options\n",
    "###available at https://matplotlib.org/stable/tutorials/colors/colormaps.html\n",
    "ndvi_cmap = \"RdYlGn\"\n",
    "\n",
    "#vmin and vmax are parameters for plotting the raw ndvi values. Depending on your dataset you might want to bring these\n",
    "###closer to zero to better show the spread of your data!\n",
    "vmin = -1\n",
    "vmax = 1\n",
    "\n",
    "###below you can specify how many classes you like. Classes defined below are -np.inf (lowest value in dataset) -> 0,\n",
    "###0 -> 0.15, 0.15 -> 0.3, 0.3 -> 0.5 and 0.5 -> +np.inf (highest value in dataset). 5 classes have been set here.\n",
    "ndvi_classes = [-np.inf, 0, 0.15, 0.3, 0.5, np.inf]\n",
    "\n",
    "###and then specify the colours for the classes, make sure this matches the number of classes above\n",
    "ndvi_colours = [\"lightblue\", \"grey\", \"yellow\", \"lightgreen\", \"green\"]\n",
    "\n",
    "###and name the classes. Again, make sure this matches the number of classes.\n",
    "ndvi_class_names = [\"class one\", \"class two\", \"class three\", \"class four\", \n",
    "                    \"class five\"]\n",
    "\n",
    "###and name your final classification plot's title\n",
    "classification_plot_title = \"Your ndvi classification plot name\""
   ]
  },
  {
   "cell_type": "code",
   "execution_count": null,
   "id": "8ada30ae",
   "metadata": {},
   "outputs": [],
   "source": [
    "def ndvi (image, ndvi_plot_title, ndvi_cmap, vmin, vmax, \n",
    "          ndvi_classes, ndvi_colours, ndvi_class_names, \n",
    "          classification_plot_title):\n",
    "    '''\n",
    "    This function will run a normalised difference vegetation index(ndvi) on an image defined by the user. \n",
    "    It is programmed to use bands 4 and 5 from Landsat 8.\n",
    "    If using Landsat 4-7 change the function as explained below. The output from this function is a raw ndvi of the image,\n",
    "    and a classification of the image based on the ndvi values. The variables required to customise the output are above.\n",
    "    '''\n",
    "    \n",
    "    ###Here we define the two bands as floats used to calculate the NDVI: red band and near infrared (NIR) band. \n",
    "    ###Keep [3] and [4] if using Landsat 8. Change to [2] and [3] if using Landsat 4-7.\n",
    "    red = image[3].astype(float)\n",
    "    nir = image[4].astype(float)\n",
    "    \n",
    "    ###and calculate the ndvi values\n",
    "    my_ndvi = np.divide((nir-red), (nir+red))\n",
    "\n",
    "    ###plot the ndvi using variables defined by user\n",
    "    ep.plot_bands(my_ndvi, cmap = ndvi_cmap, title = ndvi_plot_title, vmin = vmin, vmax = vmax)\n",
    "    \n",
    "    ###Below we take the output array for our ndvi calculated above and give each value the integer value of the \n",
    "    ###classes variables that it falls into\n",
    "    image_ndvi_class = np.digitize(my_ndvi, ndvi_classes)\n",
    "    ### Apply a 'no data' mask to the array. This will remove no value data entries\n",
    "    image_ndvi_class = np.ma.masked_where(np.ma.getmask(my_ndvi), image_ndvi_class)\n",
    "    np.unique(image_ndvi_class)\n",
    "    \n",
    "    ###turn the specified colours variable into cmap format for plotting\n",
    "    ndvi_cmap = ListedColormap(ndvi_colours)\n",
    "    \n",
    "    \n",
    "    ###get list of classes from the masked array\n",
    "    classes = np.unique(image_ndvi_class)\n",
    "    classes = classes.tolist()\n",
    "    ###the mask returns a value of 'NONE' as a class. This will give an error message that there are more classes (n+1) than\n",
    "    ###colours in cmap (n). We can remove this. (The example in the function has n = 5 classes).\n",
    "    classes = classes[0:5]\n",
    "\n",
    "    ###plot your data using variables defined by user.\n",
    "    fig, ax = plt.subplots(figsize=(14, 14))\n",
    "    im = ax.imshow(image_ndvi_class, cmap=ndvi_cmap)\n",
    "\n",
    "    ep.draw_legend(im_ax=im, classes=classes, titles=ndvi_class_names)\n",
    "    ax.set_title(classification_plot_title,\n",
    "        fontsize=16,\n",
    "    )\n",
    "    ax.set_axis_off()\n",
    "\n",
    "    ###auto adjust subplot to fit figure size\n",
    "    plt.tight_layout()"
   ]
  },
  {
   "cell_type": "code",
   "execution_count": null,
   "id": "d713467e",
   "metadata": {
    "scrolled": true
   },
   "outputs": [],
   "source": [
    "###run the function on your image. This will give you the plotted output for the NDVI.\n",
    "ndvi(image, ndvi_plot_title, cmap, vmin, vmax, ndvi_classes, ndvi_colours, ndvi_class_names, classification_plot_title)"
   ]
  },
  {
   "cell_type": "code",
   "execution_count": null,
   "id": "d92d9bd8",
   "metadata": {},
   "outputs": [],
   "source": []
  },
  {
   "cell_type": "code",
   "execution_count": null,
   "id": "a6e2d534",
   "metadata": {},
   "outputs": [],
   "source": []
  },
  {
   "cell_type": "code",
   "execution_count": null,
   "id": "b11e3589",
   "metadata": {},
   "outputs": [],
   "source": [
    "    \n",
    "    "
   ]
  },
  {
   "cell_type": "code",
   "execution_count": null,
   "id": "a919cdb2",
   "metadata": {},
   "outputs": [],
   "source": [
    "\n"
   ]
  },
  {
   "cell_type": "code",
   "execution_count": null,
   "id": "f93084f8",
   "metadata": {},
   "outputs": [],
   "source": []
  },
  {
   "cell_type": "code",
   "execution_count": null,
   "id": "a3035f5c",
   "metadata": {},
   "outputs": [],
   "source": [
    "\n"
   ]
  },
  {
   "cell_type": "code",
   "execution_count": null,
   "id": "58a6be17",
   "metadata": {
    "scrolled": true
   },
   "outputs": [],
   "source": []
  },
  {
   "cell_type": "code",
   "execution_count": null,
   "id": "3e99f28b",
   "metadata": {},
   "outputs": [],
   "source": []
  },
  {
   "cell_type": "code",
   "execution_count": null,
   "id": "886eed1f",
   "metadata": {},
   "outputs": [],
   "source": []
  },
  {
   "cell_type": "code",
   "execution_count": null,
   "id": "fdf52f66",
   "metadata": {},
   "outputs": [],
   "source": []
  },
  {
   "cell_type": "code",
   "execution_count": null,
   "id": "f937c606",
   "metadata": {},
   "outputs": [],
   "source": []
  },
  {
   "cell_type": "code",
   "execution_count": null,
   "id": "294bb3f1",
   "metadata": {},
   "outputs": [],
   "source": []
  },
  {
   "cell_type": "code",
   "execution_count": null,
   "id": "e6570fb7",
   "metadata": {},
   "outputs": [],
   "source": []
  },
  {
   "cell_type": "code",
   "execution_count": null,
   "id": "c518d06a",
   "metadata": {},
   "outputs": [],
   "source": [
    "\n"
   ]
  },
  {
   "cell_type": "code",
   "execution_count": null,
   "id": "e387b601",
   "metadata": {},
   "outputs": [],
   "source": []
  },
  {
   "cell_type": "code",
   "execution_count": null,
   "id": "b3adc298",
   "metadata": {},
   "outputs": [],
   "source": []
  },
  {
   "cell_type": "code",
   "execution_count": null,
   "id": "719baa73",
   "metadata": {},
   "outputs": [],
   "source": []
  },
  {
   "cell_type": "code",
   "execution_count": null,
   "id": "d5073cef",
   "metadata": {},
   "outputs": [],
   "source": []
  },
  {
   "cell_type": "code",
   "execution_count": null,
   "id": "66279104",
   "metadata": {},
   "outputs": [],
   "source": []
  },
  {
   "cell_type": "code",
   "execution_count": null,
   "id": "a23f7e4f",
   "metadata": {},
   "outputs": [],
   "source": []
  },
  {
   "cell_type": "code",
   "execution_count": null,
   "id": "8bfe20f5",
   "metadata": {},
   "outputs": [],
   "source": []
  },
  {
   "cell_type": "code",
   "execution_count": null,
   "id": "72dd3bf8",
   "metadata": {},
   "outputs": [],
   "source": []
  },
  {
   "cell_type": "code",
   "execution_count": null,
   "id": "31c7accc",
   "metadata": {},
   "outputs": [],
   "source": []
  },
  {
   "cell_type": "code",
   "execution_count": null,
   "id": "a158900d",
   "metadata": {},
   "outputs": [],
   "source": []
  },
  {
   "cell_type": "code",
   "execution_count": null,
   "id": "5a868474",
   "metadata": {},
   "outputs": [],
   "source": [
    "\n"
   ]
  },
  {
   "cell_type": "code",
   "execution_count": null,
   "id": "89489928",
   "metadata": {},
   "outputs": [],
   "source": []
  },
  {
   "cell_type": "code",
   "execution_count": null,
   "id": "b15088be",
   "metadata": {},
   "outputs": [],
   "source": [
    "\n"
   ]
  },
  {
   "cell_type": "code",
   "execution_count": null,
   "id": "ad867109",
   "metadata": {},
   "outputs": [],
   "source": []
  },
  {
   "cell_type": "code",
   "execution_count": null,
   "id": "002a2eca",
   "metadata": {},
   "outputs": [],
   "source": []
  }
 ],
 "metadata": {
  "kernelspec": {
   "display_name": "Python 3 (ipykernel)",
   "language": "python",
   "name": "python3"
  },
  "language_info": {
   "codemirror_mode": {
    "name": "ipython",
    "version": 3
   },
   "file_extension": ".py",
   "mimetype": "text/x-python",
   "name": "python",
   "nbconvert_exporter": "python",
   "pygments_lexer": "ipython3",
   "version": "3.7.13"
  }
 },
 "nbformat": 4,
 "nbformat_minor": 5
}
