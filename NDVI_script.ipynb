{
 "cells": [
  {
   "cell_type": "markdown",
   "id": "67e2d356",
   "metadata": {},
   "source": [
    "# Something"
   ]
  },
  {
   "cell_type": "code",
   "execution_count": null,
   "id": "e0e8606e",
   "metadata": {},
   "outputs": [],
   "source": [
    "import os\n",
    "from glob import glob\n",
    "import numpy as np\n",
    "import matplotlib.pyplot as plt\n",
    "from matplotlib.colors import ListedColormap\n",
    "import earthpy as et\n",
    "import earthpy.spatial as es\n",
    "import earthpy.plot as ep\n"
   ]
  },
  {
   "cell_type": "code",
   "execution_count": null,
   "id": "946b9144",
   "metadata": {},
   "outputs": [],
   "source": [
    "###To start, set the path to open your image. In this example the image bands are in a folder called \"Image\" in the \n",
    "###working directory. B* means that the script will read in all band tifs collectively rather than having to code each one.\n",
    "image_path = glob(\"Image\\LC08_L1TP_207023_20211122_20211130_01_T1_B*.tif\")\n",
    "###Ensure the bands are sorted in order\n",
    "image_path.sort()\n",
    "###Stack the bands into a single image. Give the no data values. WHY? WHAT IS META? ARR_ST?\n",
    "image, meta = es.stack(image_path, nodata=-9999)\n",
    "\n"
   ]
  },
  {
   "cell_type": "code",
   "execution_count": null,
   "id": "3f1cb68d",
   "metadata": {},
   "outputs": [],
   "source": []
  },
  {
   "cell_type": "code",
   "execution_count": null,
   "id": "1188a2f3",
   "metadata": {},
   "outputs": [],
   "source": [
    "###plot your image. Default plot below is the false colour composite (4, 3, 2,) but these can be changed. Str_clip will \n",
    "###impact the amount of image stretch applied.\n",
    "ep.plot_rgb(image, rgb = [4, 3, 2], title = \"test\", stretch=True, str_clip=0.1)"
   ]
  },
  {
   "cell_type": "code",
   "execution_count": null,
   "id": "8ada30ae",
   "metadata": {},
   "outputs": [],
   "source": [
    "###Function to calculate the ndvi based on the image that you open and stack, above.\n",
    "def ndvi (image):\n",
    "    ###Here we define the two bands used to calculate the NDVI: red band and near infrared (NIR) band\n",
    "    ###These are changed to floats AND WHY IS THAT?\n",
    "    red = image[3].astype(float)\n",
    "    nir = image[4].astype(float)\n",
    "    \n",
    "    ###and calculate the ndvi using the formula and numpy's divide function\n",
    "    my_ndvi = np.divide((nir-red), (nir+red))\n",
    "    \n",
    "    #give your plot a name\n",
    "    plot_title = [\"My plot name\"]\n",
    "    \n",
    "    ###Depending on your area of interest you might like to change vmin and vmax. \n",
    "    ###If, for example, your values range from -0.3 to 0.4, try using e.g. -0.4 and 0.5 as vmin/vmax to get a clearer \n",
    "    ###idea of the actual spread of NDVI values. As NDVI values can mathematically range from -1 to 1 these are used as \n",
    "    ###default vmin/vmax.\n",
    "    ###Feel free to change the colour map, too. RdYlGn (continuous scale of red -> green) is a commonly used one \n",
    "    ###with NDVI's, where darker greens represent healthier vegetation. \n",
    "    ###Choose more here: https://matplotlib.org/stable/tutorials/colors/colormaps.html\n",
    "    ep.plot_bands(my_ndvi, cmap = \"RdYlGn\", title = plot_title, vmin = -1, vmax = 1)\n",
    "    \n",
    "    ###and create the classes you want on your ndvi. Edit these as you please. -np.inf and np.inf will take the negative\n",
    "    ###and positive extremities. This will create 5 classes, but you can add more (just remember to assign them a colour below)\n",
    "    ndvi_classes = [-np.inf, 0, 0.15, 0.3, 0.5, np.inf]\n",
    "    ###Below we take the output array for our ndvi calculated above and give each value the integer value of the \n",
    "    ###class it falls into\n",
    "    image_ndvi_class = np.digitize(my_ndvi, ndvi_classes)\n",
    "    ### Apply a 'no data' mask to the array. This will remove no value data entries\n",
    "    image_ndvi_class = np.ma.masked_where(np.ma.getmask(my_ndvi), image_ndvi_class)\n",
    "    np.unique(image_ndvi_class)\n",
    "    \n",
    "    ###define colour map and class names\n",
    "    ###turn colours list into a colourmap (cmp) to read into imshow, below.\n",
    "    ndvi_colours = [\"blue\", \"green\", \"yellow\", \"red\", \"pink\"]\n",
    "    ndvi_cmap = ListedColormap(ndvi_colours)\n",
    "    ndvi_class_names = [\n",
    "        \"No Vegetation\",\n",
    "        \"Bare Earth\",\n",
    "        \"Low Density Vegetation\",\n",
    "        \"Moderate Density Vegetation\",\n",
    "        \"High Density Vegetation\"\n",
    "    ]\n",
    "    \n",
    "    # Get list of classes from the masked array\n",
    "    classes = np.unique(image_ndvi_class)\n",
    "    classes = classes.tolist()\n",
    "    ### The mask returns a value of 'NONE' as a class. This will give an error message that there are more classes (n+1) than\n",
    "    ###colours in cmap (n). We can remove this. (The example in the function has n = 5 classes).\n",
    "    classes = classes[0:5]\n",
    "\n",
    "    # Plot your data. Customise aspects such as figure size and font size.\n",
    "    fig, ax = plt.subplots(figsize=(14, 14))\n",
    "    im = ax.imshow(image_ndvi_class, cmap=ndvi_cmap)\n",
    "\n",
    "    ep.draw_legend(im_ax=im, classes=classes, titles=ndvi_class_names)\n",
    "    ax.set_title(\n",
    "        \"My Plot Title\",\n",
    "        fontsize=16,\n",
    "    )\n",
    "    ax.set_axis_off()\n",
    "\n",
    "    # Auto adjust subplot to fit figure size\n",
    "    plt.tight_layout()"
   ]
  },
  {
   "cell_type": "code",
   "execution_count": null,
   "id": "d713467e",
   "metadata": {
    "scrolled": true
   },
   "outputs": [],
   "source": [
    "###run the function on your image. This will give you the plotted output for the NDVI.\n",
    "ndvi(image)"
   ]
  },
  {
   "cell_type": "code",
   "execution_count": null,
   "id": "d92d9bd8",
   "metadata": {},
   "outputs": [],
   "source": [
    "\n",
    "    \n",
    "   \n",
    "    "
   ]
  },
  {
   "cell_type": "code",
   "execution_count": null,
   "id": "a6e2d534",
   "metadata": {},
   "outputs": [],
   "source": [
    "\n"
   ]
  },
  {
   "cell_type": "code",
   "execution_count": null,
   "id": "b11e3589",
   "metadata": {},
   "outputs": [],
   "source": [
    "    \n",
    "    "
   ]
  },
  {
   "cell_type": "code",
   "execution_count": null,
   "id": "a919cdb2",
   "metadata": {},
   "outputs": [],
   "source": [
    "\n"
   ]
  },
  {
   "cell_type": "code",
   "execution_count": null,
   "id": "f93084f8",
   "metadata": {},
   "outputs": [],
   "source": []
  },
  {
   "cell_type": "code",
   "execution_count": null,
   "id": "a3035f5c",
   "metadata": {},
   "outputs": [],
   "source": [
    "\n"
   ]
  },
  {
   "cell_type": "code",
   "execution_count": null,
   "id": "58a6be17",
   "metadata": {
    "scrolled": true
   },
   "outputs": [],
   "source": []
  },
  {
   "cell_type": "code",
   "execution_count": null,
   "id": "3e99f28b",
   "metadata": {},
   "outputs": [],
   "source": []
  },
  {
   "cell_type": "code",
   "execution_count": null,
   "id": "886eed1f",
   "metadata": {},
   "outputs": [],
   "source": []
  },
  {
   "cell_type": "code",
   "execution_count": null,
   "id": "fdf52f66",
   "metadata": {},
   "outputs": [],
   "source": []
  },
  {
   "cell_type": "code",
   "execution_count": null,
   "id": "f937c606",
   "metadata": {},
   "outputs": [],
   "source": []
  },
  {
   "cell_type": "code",
   "execution_count": null,
   "id": "294bb3f1",
   "metadata": {},
   "outputs": [],
   "source": []
  },
  {
   "cell_type": "code",
   "execution_count": null,
   "id": "e6570fb7",
   "metadata": {},
   "outputs": [],
   "source": []
  },
  {
   "cell_type": "code",
   "execution_count": null,
   "id": "c518d06a",
   "metadata": {},
   "outputs": [],
   "source": [
    "\n"
   ]
  },
  {
   "cell_type": "code",
   "execution_count": null,
   "id": "e387b601",
   "metadata": {},
   "outputs": [],
   "source": []
  },
  {
   "cell_type": "code",
   "execution_count": null,
   "id": "b3adc298",
   "metadata": {},
   "outputs": [],
   "source": []
  },
  {
   "cell_type": "code",
   "execution_count": null,
   "id": "719baa73",
   "metadata": {},
   "outputs": [],
   "source": []
  },
  {
   "cell_type": "code",
   "execution_count": null,
   "id": "d5073cef",
   "metadata": {},
   "outputs": [],
   "source": []
  },
  {
   "cell_type": "code",
   "execution_count": null,
   "id": "66279104",
   "metadata": {},
   "outputs": [],
   "source": []
  },
  {
   "cell_type": "code",
   "execution_count": null,
   "id": "a23f7e4f",
   "metadata": {},
   "outputs": [],
   "source": []
  },
  {
   "cell_type": "code",
   "execution_count": null,
   "id": "8bfe20f5",
   "metadata": {},
   "outputs": [],
   "source": []
  },
  {
   "cell_type": "code",
   "execution_count": null,
   "id": "72dd3bf8",
   "metadata": {},
   "outputs": [],
   "source": []
  },
  {
   "cell_type": "code",
   "execution_count": null,
   "id": "31c7accc",
   "metadata": {},
   "outputs": [],
   "source": []
  },
  {
   "cell_type": "code",
   "execution_count": null,
   "id": "a158900d",
   "metadata": {},
   "outputs": [],
   "source": []
  },
  {
   "cell_type": "code",
   "execution_count": null,
   "id": "5a868474",
   "metadata": {},
   "outputs": [],
   "source": [
    "\n"
   ]
  },
  {
   "cell_type": "code",
   "execution_count": null,
   "id": "89489928",
   "metadata": {},
   "outputs": [],
   "source": []
  },
  {
   "cell_type": "code",
   "execution_count": null,
   "id": "b15088be",
   "metadata": {},
   "outputs": [],
   "source": [
    "\n"
   ]
  },
  {
   "cell_type": "code",
   "execution_count": null,
   "id": "ad867109",
   "metadata": {},
   "outputs": [],
   "source": []
  },
  {
   "cell_type": "code",
   "execution_count": null,
   "id": "002a2eca",
   "metadata": {},
   "outputs": [],
   "source": []
  }
 ],
 "metadata": {
  "kernelspec": {
   "display_name": "Python 3 (ipykernel)",
   "language": "python",
   "name": "python3"
  },
  "language_info": {
   "codemirror_mode": {
    "name": "ipython",
    "version": 3
   },
   "file_extension": ".py",
   "mimetype": "text/x-python",
   "name": "python",
   "nbconvert_exporter": "python",
   "pygments_lexer": "ipython3",
   "version": "3.7.13"
  }
 },
 "nbformat": 4,
 "nbformat_minor": 5
}
